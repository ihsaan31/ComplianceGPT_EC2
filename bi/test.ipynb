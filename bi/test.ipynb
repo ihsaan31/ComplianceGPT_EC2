{
 "cells": [
  {
   "cell_type": "code",
   "execution_count": 1,
   "metadata": {},
   "outputs": [],
   "source": [
    "import os\n",
    "import pandas as pd\n",
    "import json\n",
    "import re\n",
    "from pathlib import Path\n",
    "\n",
    "pd.set_option('max_colwidth', 400)"
   ]
  },
  {
   "cell_type": "code",
   "execution_count": 2,
   "metadata": {},
   "outputs": [],
   "source": [
    "df_reg = pd.read_csv('csv/regulations.csv')\n",
    "# df_reg.head()"
   ]
  },
  {
   "cell_type": "code",
   "execution_count": 3,
   "metadata": {},
   "outputs": [],
   "source": [
    "df = pd.read_csv('csv/data_file.csv')\n",
    "# df.head()\n",
    "# print(len(df))"
   ]
  },
  {
   "cell_type": "code",
   "execution_count": 4,
   "metadata": {},
   "outputs": [],
   "source": [
    "df2 = pd.read_csv('csv/data_detail.csv')\n",
    "# df2.head()"
   ]
  },
  {
   "cell_type": "code",
   "execution_count": 5,
   "metadata": {},
   "outputs": [],
   "source": [
    "duplicate_titles = df2[df2.duplicated(subset='title', keep=False)]\n",
    "# duplicate_titles"
   ]
  },
  {
   "cell_type": "code",
   "execution_count": 5,
   "metadata": {},
   "outputs": [],
   "source": [
    "df3 = df.merge(df2, how='left', on='title')"
   ]
  },
  {
   "cell_type": "code",
   "execution_count": 6,
   "metadata": {},
   "outputs": [
    {
     "data": {
      "text/plain": [
       "type_of_regulation\n",
       "Bank Indonesia Circular Letters                391\n",
       "Bank Indonesia Regulation                      339\n",
       "Member Of The Board Of Governors Regulation     27\n",
       "Name: count, dtype: int64"
      ]
     },
     "execution_count": 6,
     "metadata": {},
     "output_type": "execute_result"
    }
   ],
   "source": [
    "df3['type_of_regulation'].value_counts()"
   ]
  },
  {
   "cell_type": "code",
   "execution_count": 166,
   "metadata": {},
   "outputs": [],
   "source": [
    "# df3.loc[df3['type_of_regulation'] == 'Bank Indonesia Circular Letters'].tail()"
   ]
  },
  {
   "cell_type": "code",
   "execution_count": 57,
   "metadata": {},
   "outputs": [],
   "source": [
    "# df3.loc[df3['file_name'] == \"Appendix\"]"
   ]
  },
  {
   "cell_type": "markdown",
   "metadata": {},
   "source": [
    "# Standardizing File Names"
   ]
  },
  {
   "cell_type": "code",
   "execution_count": 16,
   "metadata": {},
   "outputs": [],
   "source": [
    "# Function to convert type_of_regulation to its abbreviation\n",
    "def format_type_of_regulation(regulation_type):\n",
    "    mapping = {\n",
    "        \"Bank Indonesia Regulation\": \"pbi\",\n",
    "        \"Member Of The Board Of Governors Regulation\": \"padg\",\n",
    "        \"Bank Indonesia Circular Letters\": \"sebi\"\n",
    "    }\n",
    "    return mapping.get(regulation_type, \"unknown\")\n",
    "\n",
    "# Function to extract the number from title and type_of_regulation\n",
    "def format_number(title, type_of_regulation):\n",
    "    # Check for pattern a/b/c/d (three slashes)\n",
    "    match = re.search(r'\\d+/\\d+/\\w+/\\d+', title)\n",
    "    if match:\n",
    "        return format_title(match.group(0))\n",
    "    \n",
    "    # Check for pattern x/y/z (two slashes)\n",
    "    match = re.search(r'\\d+/\\d+/\\w+', title)\n",
    "    if match:\n",
    "        return format_title(match.group(0))\n",
    "\n",
    "    # Combined regex pattern for all types\n",
    "    match = re.search(r'(NUMBER[:.]?|NO\\.?|NOMOR|NR\\.?) ?(\\d+(?:/\\d+)*(/\\w+)*/\\d+|\\d+)', title, re.IGNORECASE)\n",
    "    \n",
    "    if match:\n",
    "        number = match.group(2)\n",
    "        return format_title(number)\n",
    "    \n",
    "    # Special case for 'Bank Indonesia Regulation' with additional year handling\n",
    "    if type_of_regulation == 'Bank Indonesia Regulation':\n",
    "        match_number = re.search(r'NUMBER (\\d+(?:/\\d+)*(/\\w+)*/\\d+|\\d+) (?:OF )?(\\d+)?', title, re.IGNORECASE)\n",
    "        if match_number:\n",
    "            if match_number.group(3):\n",
    "                number = match_number.group(1) + match_number.group(3)\n",
    "            else:\n",
    "                number = match_number.group(1)\n",
    "            return format_title(number)\n",
    "    \n",
    "    return \"unknown\"\n",
    "\n",
    "# Function to format date\n",
    "def format_date(date_str):\n",
    "    months = {\n",
    "        \"January\": \"01\", \"February\": \"02\", \"March\": \"03\",\n",
    "        \"April\": \"04\", \"May\": \"05\", \"June\": \"06\",\n",
    "        \"July\": \"07\", \"August\": \"08\", \"September\": \"09\",\n",
    "        \"October\": \"10\", \"November\": \"11\", \"December\": \"12\"\n",
    "    }\n",
    "    day, month, year = date_str.split()\n",
    "    return f\"{int(day):02d}{months[month]}{year}\"\n",
    "\n",
    "# Function to format title\n",
    "def format_title(title):\n",
    "    formatted_title = title.lower().replace(' ', '_').replace('/', '_').replace('-', '_')\n",
    "    formatted_title = re.sub(r'[^a-z0-9_]', '', formatted_title)\n",
    "    return formatted_title[:250]\n",
    "\n",
    "# Function to generate the standardized file name\n",
    "def generate_standardized_file_name(row):\n",
    "    regulation_type = format_type_of_regulation(row['type_of_regulation'])\n",
    "    number = format_number(row['title'], row['type_of_regulation'])\n",
    "    date = format_date(row['date'])\n",
    "    title = format_title(row['title'])\n",
    "    extension = row['file_link'].split('.')[-1]\n",
    "    return f\"{regulation_type}-{number}-{date}-{title}.{extension}\"\n",
    "\n",
    "df3['standardized_file_name'] = df3.apply(generate_standardized_file_name, axis=1)"
   ]
  },
  {
   "cell_type": "code",
   "execution_count": 19,
   "metadata": {},
   "outputs": [
    {
     "data": {
      "text/plain": [
       "Series([], Name: title, dtype: object)"
      ]
     },
     "execution_count": 19,
     "metadata": {},
     "output_type": "execute_result"
    }
   ],
   "source": [
    "unknown_rows = df3[df3['standardized_file_name'].str.contains(\"unknown\", na=False)]\n",
    "unknown_rows.loc[unknown_rows['type_of_regulation'] == 'Member Of The Board Of Governors Regulation']['title']"
   ]
  },
  {
   "cell_type": "code",
   "execution_count": 21,
   "metadata": {},
   "outputs": [],
   "source": [
    "df3_dict = df3.to_dict('records')\n",
    "with open('metadata.json', 'w') as file:\n",
    "    json.dump(df3_dict, file)\n",
    "df3.to_csv('csv/data_final.csv', index=False)"
   ]
  },
  {
   "cell_type": "markdown",
   "metadata": {},
   "source": [
    "# OS Stuff"
   ]
  },
  {
   "cell_type": "code",
   "execution_count": 10,
   "metadata": {},
   "outputs": [
    {
     "name": "stdout",
     "output_type": "stream",
     "text": [
      "757\n"
     ]
    }
   ],
   "source": [
    "_, _, files = next(os.walk(\"files/\"))\n",
    "file_count = len(files)\n",
    "print(file_count)"
   ]
  },
  {
   "cell_type": "code",
   "execution_count": 11,
   "metadata": {},
   "outputs": [
    {
     "name": "stdout",
     "output_type": "stream",
     "text": [
      "238\n"
     ]
    }
   ],
   "source": [
    "_, _, files = next(os.walk(\"extracted_files/\"))\n",
    "file_count = len(files)\n",
    "print(file_count)"
   ]
  },
  {
   "cell_type": "code",
   "execution_count": 12,
   "metadata": {},
   "outputs": [
    {
     "name": "stdout",
     "output_type": "stream",
     "text": [
      "707.31 MB\n"
     ]
    }
   ],
   "source": [
    "def get_folder_size(folder):\n",
    "    return ByteSize(sum(file.stat().st_size for file in Path(folder).rglob('*')))\n",
    "\n",
    "\n",
    "class ByteSize(int):\n",
    "\n",
    "    _KB = 1024\n",
    "    _suffixes = 'B', 'KB', 'MB', 'GB', 'PB'\n",
    "\n",
    "    def __new__(cls, *args, **kwargs):\n",
    "        return super().__new__(cls, *args, **kwargs)\n",
    "\n",
    "    def __init__(self, *args, **kwargs):\n",
    "        self.bytes = self.B = int(self)\n",
    "        self.kilobytes = self.KB = self / self._KB**1\n",
    "        self.megabytes = self.MB = self / self._KB**2\n",
    "        self.gigabytes = self.GB = self / self._KB**3\n",
    "        self.petabytes = self.PB = self / self._KB**4\n",
    "        *suffixes, last = self._suffixes\n",
    "        suffix = next((\n",
    "            suffix\n",
    "            for suffix in suffixes\n",
    "            if 1 < getattr(self, suffix) < self._KB\n",
    "        ), last)\n",
    "        self.readable = suffix, getattr(self, suffix)\n",
    "\n",
    "        super().__init__()\n",
    "\n",
    "    def __str__(self):\n",
    "        return self.__format__('.2f')\n",
    "\n",
    "    def __repr__(self):\n",
    "        return '{}({})'.format(self.__class__.__name__, super().__repr__())\n",
    "\n",
    "    def __format__(self, format_spec):\n",
    "        suffix, val = self.readable\n",
    "        return '{val:{fmt}} {suf}'.format(val=val, fmt=format_spec, suf=suffix)\n",
    "\n",
    "    def __sub__(self, other):\n",
    "        return self.__class__(super().__sub__(other))\n",
    "\n",
    "    def __add__(self, other):\n",
    "        return self.__class__(super().__add__(other))\n",
    "    \n",
    "    def __mul__(self, other):\n",
    "        return self.__class__(super().__mul__(other))\n",
    "\n",
    "    def __rsub__(self, other):\n",
    "        return self.__class__(super().__sub__(other))\n",
    "\n",
    "    def __radd__(self, other):\n",
    "        return self.__class__(super().__add__(other))\n",
    "    \n",
    "    def __rmul__(self, other):\n",
    "        return self.__class__(super().__rmul__(other))   \n",
    "    \n",
    "size = get_folder_size(\"\")\n",
    "print(size)"
   ]
  }
 ],
 "metadata": {
  "kernelspec": {
   "display_name": "env",
   "language": "python",
   "name": "python3"
  },
  "language_info": {
   "codemirror_mode": {
    "name": "ipython",
    "version": 3
   },
   "file_extension": ".py",
   "mimetype": "text/x-python",
   "name": "python",
   "nbconvert_exporter": "python",
   "pygments_lexer": "ipython3",
   "version": "3.9.13"
  }
 },
 "nbformat": 4,
 "nbformat_minor": 2
}
